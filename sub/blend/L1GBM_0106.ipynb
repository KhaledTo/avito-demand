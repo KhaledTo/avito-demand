{
 "cells": [
  {
   "cell_type": "code",
   "execution_count": 1,
   "metadata": {},
   "outputs": [],
   "source": [
    "import pandas as pd\n",
    "import numpy as np\n",
    "from sklearn import metrics, linear_model\n",
    "from sklearn.model_selection import train_test_split\n",
    "from sklearn.preprocessing import LabelEncoder\n",
    "from lightgbm import LGBMRegressor\n",
    "\n",
    "data_path = 'data/'\n",
    "\n",
    "#lgb25 = pd.read_csv('../lgCV_2505.csv.gz', compression='gzip')\n",
    "lgb27 = pd.read_csv('../lgCV_2705B.csv.gz', compression='gzip')\n",
    "lgb31 = pd.read_csv('../lgCV_3105.csv.gz', compression='gzip')\n",
    "rnn = pd.read_csv('../rnnCV_2805.csv.gz', compression='gzip')\n",
    "mlp = pd.read_csv('../mlpCV_2505.csv.gz', compression='gzip')\n",
    "truth = pd.read_csv('../../%strain.csv.zip'%(data_path), compression='zip')\n",
    "y = truth['deal_probability'].values\n",
    "truth.drop('deal_probability', 1)\n",
    "test =  pd.read_csv('../../%stest.csv.zip'%(data_path), compression='zip')\n",
    "test['deal_probability']=float('NAN') \n",
    "truth = pd.concat([truth,test[truth.columns]],axis=0)"
   ]
  },
  {
   "cell_type": "code",
   "execution_count": 2,
   "metadata": {},
   "outputs": [],
   "source": [
    "#lgb25.rename(columns={'deal_probability': 'lgb25_preds' }, inplace=True)\n",
    "lgb31.rename(columns={'deal_probability': 'lgb31_preds' }, inplace=True)\n",
    "lgb27.rename(columns={'deal_probability': 'lgb27_preds' }, inplace=True)\n",
    "mlp.rename(columns={'deal_probability': 'mlp_preds' }, inplace=True)\n",
    "preds_df = lgb27.merge(rnn, on='item_id')\\\n",
    "                .merge(mlp, on='item_id')\\\n",
    "                .merge(lgb31, on='item_id')\\\n",
    "                .merge(truth, on='item_id',how='left')"
   ]
  },
  {
   "cell_type": "code",
   "execution_count": 3,
   "metadata": {},
   "outputs": [],
   "source": [
    "preds_df['difference_l27_r']=preds_df['lgb27_preds'] - preds_df['rnn_preds']\n",
    "preds_df['difference_l27_m']=preds_df['lgb27_preds'] - preds_df['mlp_preds']\n",
    "#preds_df['difference_l27_l25']=preds_df['lgb27_preds'] - preds_df['lgb25_preds']\n",
    "preds_df['price'].fillna(-1,inplace=True)"
   ]
  },
  {
   "cell_type": "code",
   "execution_count": 4,
   "metadata": {},
   "outputs": [
    {
     "name": "stdout",
     "output_type": "stream",
     "text": [
      "True     1503424\n",
      "False     508438\n",
      "Name: deal_probability, dtype: int64\n",
      "RMSE lgb27_preds:  0.21681527582821059\n",
      "RMSE rnn_preds:  0.21771476573780568\n",
      "RMSE mlp_preds:  0.2187544351068867\n",
      "RMSE lgb31_preds:  0.21681135578306754\n"
     ]
    }
   ],
   "source": [
    "idx = preds_df['deal_probability']==preds_df['deal_probability']\n",
    "print(idx.value_counts())\n",
    "for col in [c for c in preds_df.columns if '_preds' in c]:\n",
    "    print('RMSE %s: '%(col), np.sqrt(metrics.mean_squared_error(preds_df['deal_probability'][idx].values, preds_df[col][idx].values)))"
   ]
  },
  {
   "cell_type": "code",
   "execution_count": 6,
   "metadata": {},
   "outputs": [
    {
     "data": {
      "text/html": [
       "<div>\n",
       "<style scoped>\n",
       "    .dataframe tbody tr th:only-of-type {\n",
       "        vertical-align: middle;\n",
       "    }\n",
       "\n",
       "    .dataframe tbody tr th {\n",
       "        vertical-align: top;\n",
       "    }\n",
       "\n",
       "    .dataframe thead th {\n",
       "        text-align: right;\n",
       "    }\n",
       "</style>\n",
       "<table border=\"1\" class=\"dataframe\">\n",
       "  <thead>\n",
       "    <tr style=\"text-align: right;\">\n",
       "      <th></th>\n",
       "      <th>lgb27_preds</th>\n",
       "      <th>rnn_preds</th>\n",
       "      <th>mlp_preds</th>\n",
       "      <th>lgb31_preds</th>\n",
       "    </tr>\n",
       "  </thead>\n",
       "  <tbody>\n",
       "    <tr>\n",
       "      <th>lgb27_preds</th>\n",
       "      <td>1.000000</td>\n",
       "      <td>0.919586</td>\n",
       "      <td>0.920325</td>\n",
       "      <td>0.990926</td>\n",
       "    </tr>\n",
       "    <tr>\n",
       "      <th>rnn_preds</th>\n",
       "      <td>0.919586</td>\n",
       "      <td>1.000000</td>\n",
       "      <td>0.932392</td>\n",
       "      <td>0.914960</td>\n",
       "    </tr>\n",
       "    <tr>\n",
       "      <th>mlp_preds</th>\n",
       "      <td>0.920325</td>\n",
       "      <td>0.932392</td>\n",
       "      <td>1.000000</td>\n",
       "      <td>0.916215</td>\n",
       "    </tr>\n",
       "    <tr>\n",
       "      <th>lgb31_preds</th>\n",
       "      <td>0.990926</td>\n",
       "      <td>0.914960</td>\n",
       "      <td>0.916215</td>\n",
       "      <td>1.000000</td>\n",
       "    </tr>\n",
       "  </tbody>\n",
       "</table>\n",
       "</div>"
      ],
      "text/plain": [
       "             lgb27_preds  rnn_preds  mlp_preds  lgb31_preds\n",
       "lgb27_preds     1.000000   0.919586   0.920325     0.990926\n",
       "rnn_preds       0.919586   1.000000   0.932392     0.914960\n",
       "mlp_preds       0.920325   0.932392   1.000000     0.916215\n",
       "lgb31_preds     0.990926   0.914960   0.916215     1.000000"
      ]
     },
     "execution_count": 6,
     "metadata": {},
     "output_type": "execute_result"
    }
   ],
   "source": [
    "preds_df[[c for c in preds_df.columns if '_preds' in c]].corr()"
   ]
  },
  {
   "cell_type": "code",
   "execution_count": 13,
   "metadata": {},
   "outputs": [],
   "source": [
    "cols = ['lgb27_preds', 'lgb31_preds', 'rnn_preds','mlp_preds','price', \\\n",
    "        'difference_l27_r', 'difference_l27_m', \\\n",
    "        'region', 'param_1', 'parent_category_name', 'category_name' ]\n",
    "for col in ['region', 'param_1', 'parent_category_name', 'category_name']:\n",
    "    preds_df[col] = LabelEncoder().fit_transform(preds_df[col].fillna(\"0\"))\n",
    "train_df = preds_df[~preds_df['deal_probability'].isnull()]\n",
    "test_df = preds_df[preds_df['deal_probability'].isnull()]"
   ]
  },
  {
   "cell_type": "code",
   "execution_count": 16,
   "metadata": {},
   "outputs": [
    {
     "name": "stderr",
     "output_type": "stream",
     "text": [
      "/home/darragh/anaconda3/lib/python3.6/site-packages/sklearn/model_selection/_split.py:2026: FutureWarning: From version 0.21, test_size will always complement train_size unless both are specified.\n",
      "  FutureWarning)\n"
     ]
    }
   ],
   "source": [
    "n_estimators = 4000\n",
    "train_X, valid_X, train_y, valid_y = train_test_split(train_df[cols], y, train_size=.8, random_state=12345)\n",
    "eval_set = [(train_X,train_y),(valid_X,valid_y)]"
   ]
  },
  {
   "cell_type": "code",
   "execution_count": 17,
   "metadata": {},
   "outputs": [
    {
     "data": {
      "text/plain": [
       "1202739"
      ]
     },
     "execution_count": 17,
     "metadata": {},
     "output_type": "execute_result"
    }
   ],
   "source": [
    "len(train_X)"
   ]
  },
  {
   "cell_type": "code",
   "execution_count": 21,
   "metadata": {},
   "outputs": [
    {
     "name": "stderr",
     "output_type": "stream",
     "text": [
      "/home/darragh/anaconda3/lib/python3.6/site-packages/lightgbm/basic.py:1038: UserWarning: categorical_feature in Dataset is overridden. New categorical_feature is ['category_name', 'param_1', 'parent_category_name', 'region']\n",
      "  warnings.warn('categorical_feature in Dataset is overridden. New categorical_feature is {}'.format(sorted(list(categorical_feature))))\n"
     ]
    },
    {
     "name": "stdout",
     "output_type": "stream",
     "text": [
      "Training until validation scores don't improve for 80 rounds.\n",
      "[100]\ttraining's rmse: 0.221553\tvalid_1's rmse: 0.221868\n",
      "[200]\ttraining's rmse: 0.215097\tvalid_1's rmse: 0.215614\n",
      "[300]\ttraining's rmse: 0.21393\tvalid_1's rmse: 0.214611\n",
      "[400]\ttraining's rmse: 0.213603\tvalid_1's rmse: 0.214419\n",
      "[500]\ttraining's rmse: 0.213425\tvalid_1's rmse: 0.214369\n",
      "[600]\ttraining's rmse: 0.213301\tvalid_1's rmse: 0.214346\n",
      "[700]\ttraining's rmse: 0.213194\tvalid_1's rmse: 0.214323\n",
      "[800]\ttraining's rmse: 0.213092\tvalid_1's rmse: 0.214309\n",
      "[900]\ttraining's rmse: 0.212998\tvalid_1's rmse: 0.214298\n",
      "[1000]\ttraining's rmse: 0.21292\tvalid_1's rmse: 0.21429\n",
      "[1100]\ttraining's rmse: 0.212836\tvalid_1's rmse: 0.214282\n",
      "[1200]\ttraining's rmse: 0.21276\tvalid_1's rmse: 0.214277\n",
      "[1300]\ttraining's rmse: 0.212686\tvalid_1's rmse: 0.214273\n",
      "[1400]\ttraining's rmse: 0.212609\tvalid_1's rmse: 0.21427\n",
      "[1500]\ttraining's rmse: 0.212542\tvalid_1's rmse: 0.214267\n",
      "[1600]\ttraining's rmse: 0.212469\tvalid_1's rmse: 0.214262\n",
      "[1700]\ttraining's rmse: 0.212399\tvalid_1's rmse: 0.21426\n",
      "[1800]\ttraining's rmse: 0.21233\tvalid_1's rmse: 0.214255\n",
      "[1900]\ttraining's rmse: 0.212267\tvalid_1's rmse: 0.214254\n",
      "[2000]\ttraining's rmse: 0.212204\tvalid_1's rmse: 0.214253\n",
      "[2100]\ttraining's rmse: 0.212143\tvalid_1's rmse: 0.214249\n",
      "[2200]\ttraining's rmse: 0.212083\tvalid_1's rmse: 0.214246\n",
      "[2300]\ttraining's rmse: 0.212021\tvalid_1's rmse: 0.214242\n",
      "[2400]\ttraining's rmse: 0.211959\tvalid_1's rmse: 0.21424\n",
      "[2500]\ttraining's rmse: 0.211899\tvalid_1's rmse: 0.214236\n",
      "[2600]\ttraining's rmse: 0.21184\tvalid_1's rmse: 0.214233\n",
      "[2700]\ttraining's rmse: 0.211779\tvalid_1's rmse: 0.214231\n",
      "[2800]\ttraining's rmse: 0.21172\tvalid_1's rmse: 0.214228\n",
      "[2900]\ttraining's rmse: 0.21166\tvalid_1's rmse: 0.214227\n",
      "Early stopping, best iteration is:\n",
      "[2868]\ttraining's rmse: 0.211677\tvalid_1's rmse: 0.214227\n",
      "CPU times: user 12min 42s, sys: 6.35 s, total: 12min 48s\n",
      "Wall time: 1min 42s\n"
     ]
    },
    {
     "data": {
      "text/plain": [
       "LGBMRegressor(boosting_type='gbdt', class_weight=None, colsample_bytree=1.0,\n",
       "       feature_fraction=0.5, learning_rate=0.01, max_depth=-1,\n",
       "       min_child_samples=20, min_child_weight=0.001, min_split_gain=0.0,\n",
       "       n_estimators=4000, n_jobs=-1, num_leaves=32, objective=None,\n",
       "       random_state=None, reg_alpha=0.0, reg_lambda=0.0, silent=True,\n",
       "       subsample=1.0, subsample_for_bin=200000, subsample_freq=1)"
      ]
     },
     "execution_count": 21,
     "metadata": {},
     "output_type": "execute_result"
    }
   ],
   "source": [
    "%%time\n",
    "clf = LGBMRegressor(n_estimators=n_estimators, \n",
    "                    max_depth=-1, \n",
    "                    feature_fraction= 0.5,\n",
    "                    num_leaves=32, \n",
    "                    learning_rate=.01)#, device='gpu')\n",
    "clf.fit(train_X, train_y, early_stopping_rounds=80, \n",
    "        eval_set=eval_set, eval_metric='rmse', verbose=100, \n",
    "        categorical_feature=['param_1','region','parent_category_name','category_name'])"
   ]
  },
  {
   "cell_type": "code",
   "execution_count": 22,
   "metadata": {},
   "outputs": [
    {
     "data": {
      "text/plain": [
       "1503424"
      ]
     },
     "execution_count": 22,
     "metadata": {},
     "output_type": "execute_result"
    }
   ],
   "source": [
    "n_estimators = 2868\n",
    "train_X = train_df[cols]\n",
    "train_y = y\n",
    "eval_set = [(train_X,train_y)]\n",
    "len(train_X)"
   ]
  },
  {
   "cell_type": "code",
   "execution_count": 25,
   "metadata": {},
   "outputs": [
    {
     "name": "stderr",
     "output_type": "stream",
     "text": [
      "/home/darragh/anaconda3/lib/python3.6/site-packages/lightgbm/basic.py:1038: UserWarning: categorical_feature in Dataset is overridden. New categorical_feature is ['category_name', 'param_1', 'parent_category_name', 'region']\n",
      "  warnings.warn('categorical_feature in Dataset is overridden. New categorical_feature is {}'.format(sorted(list(categorical_feature))))\n"
     ]
    },
    {
     "name": "stdout",
     "output_type": "stream",
     "text": [
      "Training until validation scores don't improve for 80 rounds.\n",
      "[100]\ttraining's rmse: 0.221618\n",
      "[200]\ttraining's rmse: 0.215198\n",
      "[300]\ttraining's rmse: 0.214056\n",
      "[400]\ttraining's rmse: 0.213748\n",
      "[500]\ttraining's rmse: 0.213587\n",
      "[600]\ttraining's rmse: 0.213475\n",
      "[700]\ttraining's rmse: 0.213382\n",
      "[800]\ttraining's rmse: 0.213295\n",
      "[900]\ttraining's rmse: 0.213223\n",
      "[1000]\ttraining's rmse: 0.213156\n",
      "[1100]\ttraining's rmse: 0.213087\n",
      "[1200]\ttraining's rmse: 0.213022\n",
      "[1300]\ttraining's rmse: 0.212962\n",
      "[1400]\ttraining's rmse: 0.212903\n",
      "[1500]\ttraining's rmse: 0.212843\n",
      "[1600]\ttraining's rmse: 0.212781\n",
      "[1700]\ttraining's rmse: 0.21272\n",
      "[1800]\ttraining's rmse: 0.212664\n",
      "[1900]\ttraining's rmse: 0.21261\n",
      "[2000]\ttraining's rmse: 0.212557\n",
      "[2100]\ttraining's rmse: 0.212505\n",
      "[2200]\ttraining's rmse: 0.212448\n",
      "[2300]\ttraining's rmse: 0.212396\n",
      "[2400]\ttraining's rmse: 0.212339\n",
      "[2500]\ttraining's rmse: 0.212286\n",
      "[2600]\ttraining's rmse: 0.212235\n",
      "[2700]\ttraining's rmse: 0.212186\n",
      "[2800]\ttraining's rmse: 0.21213\n",
      "Did not meet early stopping. Best iteration is:\n",
      "[2868]\ttraining's rmse: 0.212093\n",
      "CPU times: user 12min 51s, sys: 6.41 s, total: 12min 57s\n",
      "Wall time: 1min 42s\n"
     ]
    }
   ],
   "source": [
    "%%time\n",
    "clf = LGBMRegressor(n_estimators=n_estimators, \n",
    "                    max_depth=-1, \n",
    "                    feature_fraction= 0.5,\n",
    "                    num_leaves=32, \n",
    "                    learning_rate=.01)#, device='gpu')\n",
    "\n",
    "clf.fit(train_X, train_y, early_stopping_rounds=80, \n",
    "        eval_set=eval_set, eval_metric='rmse', verbose=100, \n",
    "        categorical_feature=['param_1','region','parent_category_name','category_name'])"
   ]
  },
  {
   "cell_type": "code",
   "execution_count": 26,
   "metadata": {},
   "outputs": [
    {
     "name": "stderr",
     "output_type": "stream",
     "text": [
      "/home/darragh/anaconda3/lib/python3.6/site-packages/ipykernel_launcher.py:1: SettingWithCopyWarning: \n",
      "A value is trying to be set on a copy of a slice from a DataFrame.\n",
      "Try using .loc[row_indexer,col_indexer] = value instead\n",
      "\n",
      "See the caveats in the documentation: http://pandas.pydata.org/pandas-docs/stable/indexing.html#indexing-view-versus-copy\n",
      "  \"\"\"Entry point for launching an IPython kernel.\n",
      "/home/darragh/anaconda3/lib/python3.6/site-packages/ipykernel_launcher.py:2: SettingWithCopyWarning: \n",
      "A value is trying to be set on a copy of a slice from a DataFrame.\n",
      "Try using .loc[row_indexer,col_indexer] = value instead\n",
      "\n",
      "See the caveats in the documentation: http://pandas.pydata.org/pandas-docs/stable/indexing.html#indexing-view-versus-copy\n",
      "  \n"
     ]
    }
   ],
   "source": [
    "test_df['deal_probability'] = clf.predict(test_df[cols])\n",
    "test_df['deal_probability'] = np.clip(test_df['deal_probability'], .0001, .9999)\n",
    "test_df[['item_id', 'deal_probability']].to_csv('../lgbbsub_0106L2.csv.gz', compression='gzip', index=False, header=True)"
   ]
  },
  {
   "cell_type": "code",
   "execution_count": 27,
   "metadata": {},
   "outputs": [
    {
     "data": {
      "text/html": [
       "<div>\n",
       "<style scoped>\n",
       "    .dataframe tbody tr th:only-of-type {\n",
       "        vertical-align: middle;\n",
       "    }\n",
       "\n",
       "    .dataframe tbody tr th {\n",
       "        vertical-align: top;\n",
       "    }\n",
       "\n",
       "    .dataframe thead th {\n",
       "        text-align: right;\n",
       "    }\n",
       "</style>\n",
       "<table border=\"1\" class=\"dataframe\">\n",
       "  <thead>\n",
       "    <tr style=\"text-align: right;\">\n",
       "      <th></th>\n",
       "      <th>item_id</th>\n",
       "      <th>deal_probability</th>\n",
       "    </tr>\n",
       "  </thead>\n",
       "  <tbody>\n",
       "    <tr>\n",
       "      <th>1503424</th>\n",
       "      <td>6544e41a8817</td>\n",
       "      <td>0.411257</td>\n",
       "    </tr>\n",
       "    <tr>\n",
       "      <th>1503425</th>\n",
       "      <td>65b9484d670f</td>\n",
       "      <td>0.166102</td>\n",
       "    </tr>\n",
       "    <tr>\n",
       "      <th>1503426</th>\n",
       "      <td>8bab230b2ecd</td>\n",
       "      <td>0.140598</td>\n",
       "    </tr>\n",
       "    <tr>\n",
       "      <th>1503427</th>\n",
       "      <td>8e348601fefc</td>\n",
       "      <td>0.076480</td>\n",
       "    </tr>\n",
       "    <tr>\n",
       "      <th>1503428</th>\n",
       "      <td>8bd2fe400b89</td>\n",
       "      <td>0.224623</td>\n",
       "    </tr>\n",
       "  </tbody>\n",
       "</table>\n",
       "</div>"
      ],
      "text/plain": [
       "              item_id  deal_probability\n",
       "1503424  6544e41a8817          0.411257\n",
       "1503425  65b9484d670f          0.166102\n",
       "1503426  8bab230b2ecd          0.140598\n",
       "1503427  8e348601fefc          0.076480\n",
       "1503428  8bd2fe400b89          0.224623"
      ]
     },
     "execution_count": 27,
     "metadata": {},
     "output_type": "execute_result"
    }
   ],
   "source": [
    "test_df[['item_id', 'deal_probability']].head()"
   ]
  },
  {
   "cell_type": "code",
   "execution_count": null,
   "metadata": {},
   "outputs": [],
   "source": []
  }
 ],
 "metadata": {
  "kernelspec": {
   "display_name": "Python 3",
   "language": "python",
   "name": "python3"
  },
  "language_info": {
   "codemirror_mode": {
    "name": "ipython",
    "version": 3
   },
   "file_extension": ".py",
   "mimetype": "text/x-python",
   "name": "python",
   "nbconvert_exporter": "python",
   "pygments_lexer": "ipython3",
   "version": "3.6.4"
  }
 },
 "nbformat": 4,
 "nbformat_minor": 2
}
